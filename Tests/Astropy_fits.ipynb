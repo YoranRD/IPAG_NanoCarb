{
 "cells": [
  {
   "cell_type": "code",
   "execution_count": 9,
   "id": "3dcdea5a",
   "metadata": {},
   "outputs": [],
   "source": [
    "import numpy as np\n",
    "import matplotlib.pyplot as plt\n",
    "import astropy\n",
    "from astropy.nddata import Cutout2D\n",
    "from astropy import units\n",
    "from astropy.io import fits\n",
    "import glob\n",
    "import os"
   ]
  },
  {
   "cell_type": "code",
   "execution_count": 10,
   "id": "4e65b4d8",
   "metadata": {},
   "outputs": [
    {
     "data": {
      "image/png": "[encoded data removed]",
      "text/plain": [
       "<Figure size 640x480 with 1 Axes>"
      ]
     },
     "metadata": {},
     "output_type": "display_data"
    }
   ],
   "source": [
    "from astropy.modeling.models import Gaussian2D\n",
    "\n",
    "y,x = np.mgrid[0:500, 0:500]\n",
    "data = Gaussian2D(1, 250, 250, 10, 5, theta=0.5)(x, y)\n",
    "\n",
    "plt.imshow(data, origin='lower', cmap='gray')\n",
    "plt.show()"
   ]
  },
  {
   "cell_type": "code",
   "execution_count": 11,
   "id": "c9c9ecdc",
   "metadata": {},
   "outputs": [
    {
     "data": {
      "text/plain": [
       "<function matplotlib.pyplot.show(close=None, block=None)>"
      ]
     },
     "execution_count": 11,
     "metadata": {},
     "output_type": "execute_result"
    },
    {
     "data": {
      "image/png": "[encoded data removed]",
      "text/plain": [
       "<Figure size 640x480 with 1 Axes>"
      ]
     },
     "metadata": {},
     "output_type": "display_data"
    }
   ],
   "source": [
    "crop_center = (250, 250)\n",
    "crop_size = units.Quantity((100,100), units.pixel)\n",
    "\n",
    "#now we crop\n",
    "crop = Cutout2D(data, crop_center, crop_size)\n",
    "plt.imshow(crop.data, origin= 'lower', cmap='gray')\n",
    "plt.show"
   ]
  },
  {
   "cell_type": "code",
   "execution_count": 12,
   "id": "95749a55",
   "metadata": {},
   "outputs": [
    {
     "data": {
      "text/plain": [
       "['20220921_174534_scanCH4_00000.fits', '20220921_180325_scanCH4_00001.fits']"
      ]
     },
     "execution_count": 12,
     "metadata": {},
     "output_type": "execute_result"
    }
   ],
   "source": [
    "filenames = glob.glob('data/*.fits')\n",
    "filename = glob.glob('*.fits')\n",
    "data_set = {}\n",
    "filename"
   ]
  },
  {
   "cell_type": "code",
   "execution_count": 13,
   "id": "2b2afcdb",
   "metadata": {},
   "outputs": [
    {
     "data": {
      "text/plain": [
       "'C:\\\\Users\\\\raynaudy\\\\Documents\\\\Programmation\\\\Python\\\\astropy'"
      ]
     },
     "execution_count": 13,
     "metadata": {},
     "output_type": "execute_result"
    }
   ],
   "source": [
    "import os\n",
    "dr = os.path.abspath(path)\n",
    "dr"
   ]
  },
  {
   "cell_type": "code",
   "execution_count": 14,
   "id": "b5b5b10d",
   "metadata": {},
   "outputs": [],
   "source": [
    "#  HEADER\n",
    "\n",
    "#hdul = Header Data Unit List cest une sorte de liste des objets HDU\n",
    "# HDU est l'element au niveau le plus eleve des fichiers FITS typiquement avec Header et tableau de data\n",
    "hdul = fits.open('/Users/raynaudy/Music/Programmation/20220921_174534_scanCH4_00000.fits')\n",
    "\n",
    "# hdul[0] premier element du HDU\n",
    "hdu = hdul[0]\n",
    "\n",
    "# hdul.info() utile, permet de resume el contenue de fichier FITS ouvert\n",
    "#hdu_info = hdul.info()\n",
    "\n",
    "# hdul.close() pour ferme le fichier ouvert\n",
    "\n",
    "\n",
    "#hdul[0].header ouvre le header complet, on peut specifier quel element du header on veut ouvrir avec\n",
    "#lindex hdul[0].header[2] pour le 3eme element par ex ou par son nom hdul[0].header['NAXIS']\n",
    "hdr = hdul[0].header\n",
    "hdr3 =hdul[0].header[2]\n",
    "hdrnxs = hdul[0].header['NAXIS']\n",
    "\n",
    "#pour voir le header commme il apparait dans le fichier fits soit juste  hdr   soit  print(repr(hdr))\n",
    "#print(repr(hdr))\n",
    "\n",
    "#pour voir seulement les n premiers elements du header hdr[:n]\n",
    "hdr_2_premiers_elements = hdr[:2]\n",
    "\n",
    "#liste de tous les mots cles on utilise la methode hdr.keys()\n",
    "#list(hdr.keys())\n",
    "\n"
   ]
  },
  {
   "cell_type": "code",
   "execution_count": 15,
   "id": "a2013be0",
   "metadata": {},
   "outputs": [],
   "source": [
    "fl = '/Users/raynaudy/Music/Programmation/20220921_174534_scanCH4_00000.fits'\n",
    "hdul = fits.open(fl)\n"
   ]
  },
  {
   "cell_type": "code",
   "execution_count": 16,
   "id": "1b0e33ce",
   "metadata": {},
   "outputs": [
    {
     "name": "stdout",
     "output_type": "stream",
     "text": [
      "20220921_174534_scanCH4_00000.fits\n",
      "20220921_180325_scanCH4_00001.fits\n"
     ]
    }
   ],
   "source": [
    "import os\n",
    " \n",
    "path = '.'\n",
    " \n",
    "files = os.listdir(path)\n",
    "\n",
    "for name in files:\n",
    "    if '.fits' in name:\n",
    "        print(name)"
   ]
  },
  {
   "cell_type": "code",
   "execution_count": 17,
   "id": "5e6e07d6",
   "metadata": {},
   "outputs": [
    {
     "data": {
      "text/plain": [
       "  FITS (Flexible Image Transport System) format is defined in 'Astronomy\n",
       "  and Astrophysics', volume 376, page 359; bibcode: 2001A&A...376..359H"
      ]
     },
     "execution_count": 17,
     "metadata": {},
     "output_type": "execute_result"
    }
   ],
   "source": [
    "hdul[0].header['COMMENT']"
   ]
  },
  {
   "cell_type": "code",
   "execution_count": 18,
   "id": "4656e4b1",
   "metadata": {},
   "outputs": [
    {
     "data": {
      "text/plain": [
       "SIMPLE  =                    T / conforms to FITS standard                      \n",
       "BITPIX  =                    8 / array data type                                \n",
       "NAXIS   =                    0 / number of array dimensions                     \n",
       "EXTEND  =                    T                                                  "
      ]
     },
     "execution_count": 18,
     "metadata": {},
     "output_type": "execute_result"
    }
   ],
   "source": [
    "hdu = fits.PrimaryHDU()\n",
    "hdu.header "
   ]
  },
  {
   "cell_type": "code",
   "execution_count": 19,
   "id": "739636e8",
   "metadata": {},
   "outputs": [
    {
     "data": {
      "text/plain": [
       "XTENSION= 'IMAGE   '           / IMAGE extension                                \n",
       "BITPIX  =                  -64 / number of bits per data pixel                  \n",
       "NAXIS   =                    2 / number of data axes                            \n",
       "NAXIS1  =                  640 / length of data axis 1                          \n",
       "NAXIS2  =                  512 / length of data axis 2                          \n",
       "PCOUNT  =                    0 / required keyword; must = 0                     \n",
       "GCOUNT  =                    1 / required keyword; must = 1                     \n",
       "EXTNAME = '20220922_162819_,40' / Name of this extension.                       \n",
       "TYPE    = 'SCIENCE '           / Type image                                     \n",
       "HIERARCH SOUS_TYPE = 'NORMAL  ' / Sous-type image                               \n",
       "HIERARCH TEMPS_POSE = '10000   ' / Temps d'exposition (micro s)                 \n",
       "GAIN    = '1       '           / Gain                                           \n",
       "LAMBDA  = '1602.462478'        / Lambda source (nm)                             \n",
       "HIERARCH TEMPERATURE = '282.899994' / Temperature source (degreC)               \n",
       "HIERARCH INTENSITE = '225.985374' / Courant source (mA)                         \n",
       "HIERARCH TYPE_SOURCE = 'ocean   ' / Type de source                              \n",
       "HIERARCH TRAITEMENT = 'NanoCarb_Drone_30pix' / traitement reflectif du spoc     \n",
       "DISTANCE= '0.000000'           / distance source detecteur (mm)                 \n",
       "HIERARCH DIAMETRE_FIBRE = '1500    ' / diiametre de la fibre optique (micro m)  \n",
       "HIERARCH DISTANCE_FOCALE = '10      ' / distance focale (mm)                    \n",
       "HIERARCH DIAMETRE_LENTILLE = '1       ' / diametre de la lentille (mm)          "
      ]
     },
     "execution_count": 19,
     "metadata": {},
     "output_type": "execute_result"
    }
   ],
   "source": [
    "#pour avoir les infos de l'ensemble des elements de la liste hdu on tape\n",
    "# hdul.info()\n",
    "\n",
    "# avec hdul.info() on voit qu'on a 350 images dans le fichier FITS\n",
    "#chaque image a 21 cards (cards un sorte de liste qui contient un keyword une valeur et un commentaire) qui sont des\n",
    "#infos sur l'image\n",
    "# chaque image a aussi un tableau de donnees de (640, 512) ces donnes sont \n",
    "#header de la premiere donnee\n",
    "hdr = hdul[350].header\n",
    "hdr"
   ]
  },
  {
   "cell_type": "code",
   "execution_count": 1,
   "id": "c23ad58d",
   "metadata": {},
   "outputs": [
    {
     "ename": "NameError",
     "evalue": "name 'hdul' is not defined",
     "output_type": "error",
     "traceback": [
      "\u001b[1;31m---------------------------------------------------------------------------\u001b[0m",
      "\u001b[1;31mNameError\u001b[0m                                 Traceback (most recent call last)",
      "\u001b[1;32m~\\AppData\\Local\\Temp\\ipykernel_16844\\3807509121.py\u001b[0m in \u001b[0;36m<module>\u001b[1;34m\u001b[0m\n\u001b[1;32m----> 1\u001b[1;33m \u001b[0mhdul\u001b[0m\u001b[1;33m[\u001b[0m\u001b[1;36m1\u001b[0m\u001b[1;33m]\u001b[0m\u001b[1;33m\u001b[0m\u001b[1;33m\u001b[0m\u001b[0m\n\u001b[0m",
      "\u001b[1;31mNameError\u001b[0m: name 'hdul' is not defined"
     ]
    }
   ],
   "source": [
    "hdul[1]"
   ]
  },
  {
   "cell_type": "code",
   "execution_count": 22,
   "id": "62bf3381",
   "metadata": {},
   "outputs": [],
   "source": [
    "# recupere toutes les longueurs d'onde\n",
    "def long_onde(f):\n",
    "    list_lambda = []\n",
    "    i = 1\n",
    "    for i in range(1,len(f) - 1):\n",
    "        list_lambda.append(f[i].header['LAMBDA'])\n",
    "    return(list_lambda)\n",
    "    #a = np.array(list_lambda)\n",
    "    #print(a.shape)\n",
    "\n",
    "    #recupere la reponse du pxl\n",
    "def reponse_pxl(g):\n",
    "    list_rep_pxl = []\n",
    "    for i in range(1,len(g) - 1):   \n",
    "        data = g[i].data\n",
    "        list_rep_pxl.append(data[252][320])\n",
    "    return(list_rep_pxl)\n",
    "    #b = np.array(list_rep_pxl)\n",
    "    #print(b.shape)\n",
    "\n",
    "    #graph tout ca\n",
    "def graph(l,p): \n",
    "    plt.title('Caract Pixel Camera')    \n",
    "    plt.plot(l, p)\n",
    "    plt.xlabel('Longueur donde (nm)')\n",
    "    plt.ylabel('Intensite')\n",
    "    plt.show()\n",
    "    \n",
    "def fits_file():\n",
    "    path = '.'\n",
    "    files = os.listdir(path)\n",
    "    fits_files = []\n",
    "    for name in files:\n",
    "        if '.fits' in name:\n",
    "            fits_files.append(name)\n",
    "    return(fits_files)\n",
    "\n",
    "\"\"\"    \n",
    "def caract_pxl():\n",
    "    onde = long_onde()\n",
    "    pxl = reponse_pxl()\n",
    "    graph(onde, pxl)\n",
    "\"\"\"\n",
    "\n",
    "def caract_pxl():\n",
    "    wavel = []\n",
    "    pxli = []\n",
    "    fits_files = fits_file()\n",
    "    for file in fits_files:\n",
    "        print(file)\n",
    "        hdul = fits.open(file)\n",
    "        \n",
    "        onde = long_onde(hdul)\n",
    "        pxl = reponse_pxl(hdul)\n",
    "        \n",
    "        wavel = wavel + onde\n",
    "        #pxli.append(pxl)\n",
    "        pxli = pxli + pxl\n",
    "    #print(wavel)\n",
    "    graph(wavel, pxli)\n",
    "    \n",
    "    \n",
    "    \n",
    "def caract_pxl_1():\n",
    "    wavel = []\n",
    "    pxli = []\n",
    "    hdul = fits.open( 'C:/Users/raynaudy/Documents/Manip/CH4/long_onde_1642_to_1654/with_CH4/20230207/20230207_120054_1650_to_1651_50pas_00000.fits')\n",
    "\n",
    "    onde = long_onde(hdul)\n",
    "    pxl = reponse_pxl(hdul)\n",
    "\n",
    "    wavel = wavel + onde\n",
    "    #pxli.append(pxl)\n",
    "    pxli = pxli + pxl\n",
    "    #print(wavel)\n",
    "    graph(wavel, pxli)\n",
    "        \n",
    "    \n",
    "   "
   ]
  },
  {
   "cell_type": "code",
   "execution_count": 25,
   "id": "c68f91fb",
   "metadata": {},
   "outputs": [],
   "source": [
    "def caract_pxl_2():\n",
    "    wavel = []\n",
    "    pxli = []\n",
    "    hdul = fits.open( 'C:/Users/raynaudy/Documents/Manip/CH4/long_onde_1642_to_1654/without_CH4/20230207/20230207_115314_1650_to_1651_50pas_00000.fits')\n",
    "\n",
    "    onde = long_onde(hdul)\n",
    "    pxl = reponse_pxl(hdul)\n",
    "\n",
    "    wavel = wavel + onde\n",
    "    #pxli.append(pxl)\n",
    "    pxli = pxli + pxl\n",
    "    #print(wavel)\n",
    "    graph(wavel, pxli)\n",
    "        \n",
    "    \n",
    "   "
   ]
  },
  {
   "cell_type": "code",
   "execution_count": 27,
   "id": "cb417a0f",
   "metadata": {},
   "outputs": [
    {
     "data": {
      "image/png": "[encoded data removed]",
      "text/plain": [
       "<Figure size 640x480 with 1 Axes>"
      ]
     },
     "metadata": {},
     "output_type": "display_data"
    }
   ],
   "source": [
    "caract_pxl_2()"
   ]
  },
  {
   "cell_type": "code",
   "execution_count": null,
   "id": "fc427e6b",
   "metadata": {},
   "outputs": [],
   "source": []
  },
  {
   "cell_type": "code",
   "execution_count": 105,
   "id": "8004f566",
   "metadata": {},
   "outputs": [
    {
     "data": {
      "image/png": "[encoded data removed]",
      "text/plain": [
       "<Figure size 640x480 with 1 Axes>"
      ]
     },
     "metadata": {},
     "output_type": "display_data"
    }
   ],
   "source": [
    "\n",
    "caract_pxl()"
   ]
  },
  {
   "cell_type": "code",
   "execution_count": 110,
   "id": "5d147ba4",
   "metadata": {},
   "outputs": [
    {
     "data": {
      "text/plain": [
       "\"\\n# 20220921_174534_scanCH4_00000.fits\\n# 20220921_180325_scanCH4_00001.fits\\nhdul = fits.open('/Users/raynaudy/Music/Programmation/20220921_180325_scanCH4_00001.fits')\\n\\nhdr = hdul[1].header\\ntype(len(hdul))\\n\\n\\n\""
      ]
     },
     "execution_count": 110,
     "metadata": {},
     "output_type": "execute_result"
    }
   ],
   "source": [
    "\"\"\"\n",
    "# 20220921_174534_scanCH4_00000.fits\n",
    "# 20220921_180325_scanCH4_00001.fits\n",
    "hdul = fits.open('/Users/raynaudy/Music/Programmation/20220921_180325_scanCH4_00001.fits')\n",
    "\n",
    "hdr = hdul[1].header\n",
    "type(len(hdul))\n",
    "\n",
    "\n",
    "\"\"\""
   ]
  },
  {
   "cell_type": "code",
   "execution_count": 26,
   "id": "49931f3c",
   "metadata": {},
   "outputs": [],
   "source": [
    "hdul = fits.open('/Users/raynaudy/Music/Programmation/20220921_174534_scanCH4_00000.fits')"
   ]
  },
  {
   "cell_type": "code",
   "execution_count": null,
   "id": "38271dc4",
   "metadata": {},
   "outputs": [],
   "source": []
  },
  {
   "cell_type": "code",
   "execution_count": null,
   "id": "09ee6d9d",
   "metadata": {},
   "outputs": [],
   "source": []
  },
  {
   "cell_type": "code",
   "execution_count": 20,
   "id": "5acf8bb0",
   "metadata": {},
   "outputs": [
    {
     "data": {
      "image/png": "[encoded data removed]",
      "text/plain": [
       "<Figure size 640x480 with 1 Axes>"
      ]
     },
     "metadata": {},
     "output_type": "display_data"
    }
   ],
   "source": [
    "list_lambda = []\n",
    "i = 1\n",
    "for i in range(1,350):\n",
    "    list_lambda.append(hdul[i].header['LAMBDA'])\n",
    "\n",
    "list_rep_pxl = []\n",
    "for i in range(1,350):   \n",
    "    data = hdul[i].data\n",
    "    list_rep_pxl.append(data[150][200])\n",
    "    \n",
    "plt.title('Caract Pixel Camera')    \n",
    "plt.plot(list_lambda, list_rep_pxl)\n",
    "plt.xlabel('Longueur donde (nm)')\n",
    "plt.ylabel('Intensite')\n",
    "plt.show()"
   ]
  },
  {
   "cell_type": "code",
   "execution_count": 42,
   "id": "75c6d2ff",
   "metadata": {
    "scrolled": false
   },
   "outputs": [],
   "source": [
    "\"\"\"\n",
    "Si les data du HDU sont des images il retournera un objet tableau numpy ndarray qui correspond a lextension 'SCI'\n",
    "On peut donc le manipuler avec les methodes numpy\n",
    "\"\"\"\n",
    "\n",
    "data = hdul[1].data\n",
    "\n",
    "shape = data.shape\n",
    "type_de_la_data = data.dtype.name\n",
    "\n",
    "\n",
    "\"\"\"\n",
    "Comme limage et un objet numpy on peut le decouper, faire des operations mathematiques dessus ...\"\"\"\n",
    "valeur_pxl_a_x5_y2 = data[1,4]\n",
    "\n",
    "\n",
    "#ici shape nous dit que notre data est 640x512, pour avoir le dernier element du dernier elmt : print(data[511][639])\n",
    "#print(data[511][639])\n"
   ]
  },
  {
   "cell_type": "code",
   "execution_count": 154,
   "id": "a2d8648b",
   "metadata": {},
   "outputs": [
    {
     "name": "stdout",
     "output_type": "stream",
     "text": [
      "[4637.0, 4890.0, 5571.5, 6557.5, 7336.25, 7415.5, 6636.25, 5565.0, 4766.0, 4505.0, 4866.25, 5591.5, 6516.25, 7131.5, 7234.25, 6577.75, 5402.5, 4094.0, 2583.0, 430.0, 496.75, 3824.0, 6117.25, 6724.0, 6480.75, 5724.25, 4939.0, 6507.0, 5877.25, 5334.25, 5087.75, 5289.25, 5980.0, 6908.0, 7426.25, 7277.5, 6666.5, 5989.0, 5521.0, 5382.0, 5605.5, 6114.75, 6830.5, 7462.75, 7362.5, 6778.25, 6000.5, 5524.5, 5543.25, 6023.5, 6715.5, 7417.5, 7590.0, 7327.25, 6709.25, 6090.25, 5694.5, 5665.75, 6097.5, 6909.25, 7731.75, 7941.75, 7408.75, 6639.75, 5867.25, 5618.75, 5810.75, 6360.75, 7106.25, 7784.5, 7991.75, 7472.25, 6593.5, 5886.75, 5541.5, 5908.25, 6672.5, 7613.5, 8091.0, 7873.0, 7140.75, 6295.25, 5715.25, 5556.75, 5824.25, 6572.0, 7556.0, 8237.25, 7966.5, 6936.25, 6020.5, 5429.75, 5328.5, 5826.25, 6459.75, 6943.5, 7860.75, 7780.5, 6961.5, 5881.0, 5343.5, 5288.5, 5634.25, 6440.25, 7462.75, 7825.75, 7279.25, 6220.75, 5339.25, 4733.0, 4242.0, 3764.5, 2043.5, 7.5, 1256.0, 4487.75, 5252.5, 4770.0, 4796.0, 5117.75, 5806.0, 6531.25, 7300.25, 7706.0, 7511.75, 6803.0, 5994.0, 5370.25, 5209.0, 5599.75, 6439.25, 7124.5, 7364.5, 7166.0, 6367.0, 5606.25, 5373.5, 5417.25, 5806.5, 6442.25, 7017.5, 7247.0, 6833.5, 6047.5, 5331.0, 5063.5, 5425.5, 6016.25, 6714.0, 7170.25, 7176.5, 6632.25, 5888.25, 5271.25, 4969.5, 5116.5, 5635.5, 6252.0, 6996.0, 7049.25, 6404.5, 6388.75, 4994.5, 4866.5, 5204.25, 5792.5, 6382.75, 7031.25, 7011.75, 6219.75, 5412.25, 4720.75, 4714.0, 5180.0, 5975.25, 6895.75, 7461.0, 7351.5, 6584.5, 5513.5, 4814.75, 4770.0, 5183.0, 6034.75, 6915.25, 7639.5, 7487.5, 6517.75, 5458.25, 4934.5, 4854.25, 5275.0, 6151.0, 6938.25, 7279.25, 7048.0, 6228.25, 5283.5, 4759.5, 4644.5, 4921.0, 5413.0, 5380.25, 3547.75, 313.5, 1286.0, 3552.25, 4168.5, 4564.0, 5273.75, 6089.25, 6879.25, 7382.5, 6921.25, 5848.0, 5131.25, 4931.25, 5205.5, 5798.5, 6536.0, 7140.75, 7294.75, 6801.5, 5982.0, 5299.5, 4992.75, 5266.5, 6077.0, 6936.0, 7339.5, 7154.5, 6474.5, 5694.5, 5161.75, 5076.75, 5082.5, 6209.5, 7023.5, 7585.25, 7383.5, 6481.75, 5395.5, 4947.5, 5204.0, 6006.0, 6815.5, 7468.0, 7551.75, 6995.5, 6076.25, 5311.5, 5031.0, 5408.5, 6270.75, 7242.5, 7962.25, 7959.75, 7086.0, 5985.0, 5289.0, 5075.75, 5442.5, 6206.25, 7052.75, 7805.5, 7869.75, 7282.0, 6172.0, 5315.0, 5169.75, 5625.25, 6555.5, 7290.25, 7808.0, 7746.75, 6846.5, 5963.5, 5346.25, 5281.5, 5272.25, 6629.5, 7538.75, 7982.5, 7660.75, 6565.25, 5532.5, 5131.5, 5157.25, 5512.25, 5858.5, 5525.75, 3636.5, 219.25, -116.0]\n"
     ]
    }
   ],
   "source": [
    "def files():\n",
    "    path = 'C:/Users/raynaudy/Documents/Manip/CH4/long_onde_1642_to_1654/with_CH4/20230207'\n",
    "    files = os.listdir(path)\n",
    "    fits_files = []\n",
    "    specific = '293pas'\n",
    "    for name in files:\n",
    "        if specific in name and '.fits' in name:\n",
    "            fits_files.append(path+'/'+name)\n",
    "    return(fits_files)\n",
    "\n",
    "\n",
    "fits_files = files()\n",
    "for file in fits_files:\n",
    "    hdul = fits.open(file)\n",
    "\n",
    "    medhdul = []\n",
    "    for i in range(1,len(hdul)):\n",
    "        meddata = []\n",
    "        data = hdul[i].data\n",
    "        for j in range(0, len(data)):\n",
    "            meddata.append(np.median(hdul[i].data[j]))\n",
    "        medhdul.append(np.median(meddata))\n",
    "        \n",
    "\n",
    "        \n",
    "        \n",
    "#relation intensite / absorbance\n",
    "#relation absorbance / concentration\n",
    "#calculer concentration depuis spectre d'absorption\n",
    "        "
   ]
  },
  {
   "cell_type": "code",
   "execution_count": 150,
   "id": "968a2b91",
   "metadata": {},
   "outputs": [
    {
     "data": {
      "text/plain": [
       "array([ 1.12083333e+00, -2.77166667e+00, -2.89583333e+00, -1.05400000e+01,\n",
       "       -2.98833333e+00, -3.56416667e+00, -1.00233333e+01,  8.91666667e-02,\n",
       "        1.44250000e+00, -7.57500000e-01, -1.92916667e+00,  2.31333333e+00,\n",
       "        7.93333333e-01, -5.43333333e+00, -7.01000000e+00, -7.06666667e+00,\n",
       "       -1.96833333e+00, -4.56916667e+00, -6.62500000e-01, -1.16583333e+00,\n",
       "        2.61000000e+00, -6.29916667e+00, -3.88083333e+00, -2.75833333e-01,\n",
       "        1.69750000e+00,  6.21666667e-01,  2.81583333e+00,  8.68833333e+00,\n",
       "        4.78250000e+00, -7.07500000e-01,  8.14166667e-01, -1.43500000e+00,\n",
       "        8.40000000e-01,  2.92916667e+00,  5.14166667e+00,  3.20500000e+00,\n",
       "        5.69333333e+00,  2.80833333e-01,  2.53333333e+00,  6.47000000e+00,\n",
       "        3.98083333e+00,  7.93083333e+00,  6.94166667e+00,  2.04750000e+00,\n",
       "        8.63000000e+00,  5.06833333e+00,  7.35666667e+00,  6.04250000e+00,\n",
       "        2.43166667e+00,  5.77500000e+00,  6.89666667e+00, -1.92083333e+00,\n",
       "        1.38666667e+00,  8.63833333e+00,  2.09416667e+00,  1.86666667e+00,\n",
       "        4.14250000e+00,  6.15000000e-01, -4.00166667e+00,  1.09166667e-01,\n",
       "        1.67083333e+00,  7.95000000e-01,  9.97500000e-01, -5.33500000e+00,\n",
       "        3.58250000e+00,  2.43500000e+00, -6.35833333e-01, -2.55833333e-01,\n",
       "       -2.13583333e+00,  3.60416667e+00, -4.05000000e-01,  4.44666667e+00,\n",
       "        6.93250000e+00, -1.38666667e+00,  1.44333333e+00,  6.77750000e+00,\n",
       "        5.50666667e+00, -3.24250000e+00, -1.29083333e+00,  4.23750000e+00,\n",
       "        1.36666667e-01,  2.93083333e+00, -4.00666667e+00,  2.81500000e+00,\n",
       "        1.64916667e+00,  1.67416667e+00,  1.76333333e+00, -2.01083333e+00,\n",
       "       -5.05333333e+00,  2.75166667e+00,  8.24166667e-01, -2.72500000e-01,\n",
       "       -2.26250000e+00,  3.54916667e+00,  4.29250000e+00,  7.05250000e+00,\n",
       "        6.96000000e+00,  2.20500000e+00,  5.48166667e+00, -1.60916667e+00,\n",
       "       -4.95833333e-01,  9.11000000e+00, -1.77833333e+00,  5.75000000e+00,\n",
       "        4.22750000e+00,  1.08916667e+01,  6.11000000e+00,  7.09416667e+00,\n",
       "        7.85916667e+00,  8.72583333e+00, -2.52083333e+00,  7.29083333e+00,\n",
       "        1.04208333e+01, -1.60000000e+00,  7.83583333e+00,  3.81666667e-01,\n",
       "        5.39250000e+00,  7.81666667e-01,  5.06000000e+00,  2.34166667e-01,\n",
       "        4.99750000e+00,  3.05083333e+00,  6.35833333e-01,  6.23666667e+00,\n",
       "        3.19583333e+00,  2.79166667e+00, -3.81583333e+00, -6.83333333e-01,\n",
       "        4.01833333e+00, -1.19416667e+00,  3.19666667e+00,  5.88083333e+00,\n",
       "       -2.87500000e-01,  1.98500000e+00, -1.98583333e+00,  4.67166667e+00,\n",
       "        5.09666667e+00,  5.64166667e+00, -5.10083333e+00, -8.31666667e-01,\n",
       "        4.97833333e+00, -4.20000000e+00, -8.68583333e+00, -1.22333333e+00,\n",
       "        1.10083333e+00, -3.73333333e+00,  1.50000000e-02,  6.77500000e-01,\n",
       "        1.60083333e+00,  5.03833333e+00,  5.27083333e+00,  3.47083333e+00,\n",
       "        1.31358333e+01,  1.06725000e+01,  1.04850000e+01,  6.99583333e+00,\n",
       "        7.37083333e+00,  9.10750000e+00,  3.41666667e+00,  1.47791667e+01,\n",
       "        7.76583333e+00,  5.36750000e+00,  1.17966667e+01,  7.17333333e+00,\n",
       "        7.58000000e+00,  6.76000000e+00,  8.58583333e+00,  8.48416667e+00,\n",
       "        1.09050000e+01,  3.46583333e+00,  3.49833333e+00,  3.90666667e+00,\n",
       "        6.96333333e+00,  5.27250000e+00,  5.50083333e+00,  7.65250000e+00,\n",
       "        8.34250000e+00,  7.36833333e+00,  2.72416667e+00,  7.63083333e+00,\n",
       "        7.35166667e+00, -6.54500000e+00,  6.71416667e+00,  1.79416667e+00,\n",
       "       -1.59000000e+00,  2.41333333e+00,  4.88333333e-01,  5.35500000e+00,\n",
       "        6.50916667e+00,  1.41416667e+00,  5.67500000e+00,  3.65833333e+00,\n",
       "        1.94750000e+00, -1.12583333e+00,  3.97416667e+00,  3.79750000e+00,\n",
       "       -2.18666667e+00,  6.25333333e+00,  5.25916667e+00,  8.33583333e+00,\n",
       "        1.73583333e+00,  2.42083333e+00, -1.42333333e+00,  6.18333333e-01,\n",
       "       -3.88166667e+00, -2.76500000e+00,  1.77416667e+00, -4.96083333e+00,\n",
       "        3.20000000e-01,  4.31250000e+00,  5.30333333e+00,  4.53000000e+00,\n",
       "        8.98250000e+00,  6.32250000e+00,  1.25641667e+01,  6.95833333e+00,\n",
       "        1.09041667e+01,  1.10658333e+01,  1.56941667e+01,  1.43841667e+01,\n",
       "        1.87358333e+01,  1.35550000e+01,  1.19550000e+01,  1.47616667e+01,\n",
       "        1.59366667e+01,  1.01066667e+01,  7.72000000e+00,  6.11916667e+00,\n",
       "        8.64583333e+00,  9.86583333e+00,  9.80333333e+00,  1.08941667e+01,\n",
       "        8.39916667e+00,  8.42500000e+00,  6.15750000e+00,  5.77500000e+00,\n",
       "        1.26425000e+01,  5.90333333e+00,  9.40333333e+00,  1.07775000e+01,\n",
       "        5.74916667e+00,  1.13708333e+01,  3.78250000e+00,  7.54916667e+00,\n",
       "        3.18500000e+00,  1.35641667e+01,  5.13000000e+00,  3.56250000e+00,\n",
       "        5.41583333e+00,  1.58166667e+00,  2.30833333e+00,  5.79333333e+00,\n",
       "        4.31416667e+00,  2.12833333e+00,  1.99000000e+00,  2.75416667e+00,\n",
       "        2.02000000e+00,  1.14333333e+00, -4.21666667e-01,  1.10491667e+01,\n",
       "        3.59916667e+00,  3.55000000e+00,  1.82083333e+00,  7.85000000e-01,\n",
       "        1.75083333e+00, -8.05000000e-01,  3.64166667e+00,  7.47500000e-01,\n",
       "       -8.57500000e-01, -1.69166667e+00,  1.27083333e+00,  2.19583333e+00,\n",
       "        3.69666667e+00,  2.17583333e+00,  7.28250000e+00,  1.53833333e+01,\n",
       "        2.09341667e+01,  3.40550000e+01,  4.80050000e+01,  4.53408333e+01,\n",
       "        5.42183333e+01,  5.93241667e+01,  6.31966667e+01,  6.66283333e+01,\n",
       "        6.84983333e+01,  6.43616667e+01,  6.68183333e+01,  5.28658333e+01,\n",
       "        4.38833333e+01,  5.35700000e+01,  3.92666667e+01,  2.89408333e+01,\n",
       "        2.94583333e+01,  2.37025000e+01,  7.26000000e+00,  7.69250000e+00,\n",
       "        9.75416667e+00,  2.17166667e+00,  1.22850000e+01,  1.09666667e+01,\n",
       "        1.37791667e+01,  1.06050000e+01,  6.21333333e+00,  6.35583333e+00,\n",
       "       -8.90000000e+00,  7.69000000e+00,  1.96416667e+00,  2.98916667e+00,\n",
       "        5.93416667e+00,  4.86833333e+00, -1.02725000e+01,  1.13550000e+01,\n",
       "        7.87000000e+00,  3.25166667e+00,  1.18333333e-01,  3.18666667e+00,\n",
       "        7.41666667e-02,  4.43333333e+00,  2.57083333e+00,  1.19058333e+01,\n",
       "        3.31666667e+00,  8.45083333e+00,  3.04416667e+00,  5.79916667e+00,\n",
       "        6.45416667e+00,  2.08166667e+00,  8.95333333e+00,  7.98333333e-01,\n",
       "        5.13333333e-01,  2.23750000e+00,  3.02666667e+00, -1.23333333e-01,\n",
       "        3.26250000e+00,  4.05333333e+00, -2.27083333e+00,  2.79250000e+00,\n",
       "        5.66833333e+00,  3.03583333e+00,  3.88333333e+00,  8.19916667e+00,\n",
       "        1.77800000e+01,  2.67258333e+01,  3.63450000e+01,  4.13941667e+01,\n",
       "        5.11791667e+01,  5.09558333e+01,  5.13450000e+01,  5.87075000e+01,\n",
       "        6.23150000e+01,  5.62833333e+01,  4.28800000e+01,  5.17083333e+01,\n",
       "        4.92025000e+01,  4.52241667e+01,  3.84283333e+01,  2.90916667e+01,\n",
       "        3.35133333e+01,  2.09283333e+01,  9.35500000e+00,  1.43408333e+01,\n",
       "        9.03083333e+00,  1.30825000e+01,  8.19166667e+00,  8.80416667e+00,\n",
       "        4.00583333e+00,  4.55000000e+00,  5.18000000e+00,  7.71250000e+00,\n",
       "        1.14950000e+01,  1.28800000e+01,  4.78333333e+00,  7.68083333e+00,\n",
       "        1.16225000e+01,  4.74083333e+00,  8.04500000e+00,  9.86750000e+00,\n",
       "        1.74583333e+00,  2.22000000e+00,  7.98583333e+00,  6.43333333e+00,\n",
       "        2.32666667e+00,  5.98500000e+00,  9.13583333e+00,  4.54000000e+00,\n",
       "        6.68000000e+00,  9.28416667e+00, -9.45000000e-01,  5.77000000e+00,\n",
       "        2.31333333e+00,  1.29333333e+00,  2.31416667e+00, -3.78416667e+00,\n",
       "        5.50333333e+00,  2.27583333e+00,  4.66666667e+00, -3.51833333e+00,\n",
       "        9.79166667e-01,  8.49000000e+00,  1.10775000e+01,  2.30616667e+01,\n",
       "        2.88133333e+01,  3.30866667e+01,  4.35125000e+01,  5.49675000e+01,\n",
       "        4.59075000e+01,  4.93108333e+01,  4.65391667e+01,  4.38858333e+01,\n",
       "        5.18125000e+01,  5.14341667e+01,  4.56800000e+01,  4.05183333e+01,\n",
       "        5.33350000e+01,  4.30366667e+01,  4.16375000e+01,  4.92375000e+01,\n",
       "        5.03850000e+01,  4.96500000e+01,  4.86891667e+01,  4.71650000e+01,\n",
       "        4.58658333e+01,  4.16066667e+01,  4.95516667e+01,  4.27691667e+01,\n",
       "        3.93225000e+01,  3.34308333e+01,  1.99333333e+01,  1.88175000e+01,\n",
       "        7.18833333e+00,  7.65333333e+00,  6.12750000e+00,  7.58750000e+00,\n",
       "        5.85250000e+00,  1.26066667e+01,  4.01000000e+00,  7.31000000e+00,\n",
       "        6.20000000e+00,  1.25516667e+01, -3.90000000e-01,  7.24250000e+00,\n",
       "        6.67583333e+00,  8.74916667e+00,  9.38333333e-01,  5.38750000e+00,\n",
       "        8.62083333e+00,  2.48916667e+00,  6.87750000e+00,  5.72500000e+00,\n",
       "        5.41583333e+00,  6.28083333e+00, -3.61666667e-01,  6.30000000e+00,\n",
       "        4.03750000e+00,  5.73583333e+00,  1.71916667e+00, -1.00250000e+00,\n",
       "        5.84916667e+00,  3.43416667e+00,  2.34416667e+00,  4.83500000e+00,\n",
       "        7.40416667e+00,  1.05866667e+01,  2.11300000e+01,  3.59416667e+01,\n",
       "        4.57891667e+01,  5.46841667e+01,  5.03541667e+01,  6.52441667e+01,\n",
       "        5.29841667e+01,  5.44525000e+01,  4.88233333e+01,  5.84183333e+01,\n",
       "        5.22600000e+01,  4.86950000e+01,  5.57733333e+01,  4.96875000e+01,\n",
       "        5.51141667e+01,  4.58950000e+01,  5.31733333e+01,  4.31375000e+01,\n",
       "        5.06808333e+01,  5.58908333e+01,  5.83883333e+01,  5.41666667e+01,\n",
       "        5.46683333e+01,  5.42258333e+01,  5.01300000e+01,  5.34033333e+01,\n",
       "        5.36200000e+01,  3.82516667e+01,  2.57816667e+01,  1.72425000e+01,\n",
       "        1.39316667e+01,  3.74583333e+00,  1.11108333e+01,  5.43833333e+00,\n",
       "        9.83416667e+00, -4.57500000e-01,  1.14791667e+01,  4.91416667e+00,\n",
       "        4.36583333e+00,  5.75000000e+00,  6.07250000e+00,  1.02641667e+01,\n",
       "        7.60916667e+00,  1.53333333e-01,  8.56000000e+00,  5.74750000e+00,\n",
       "        5.91500000e+00, -8.41666667e-01,  3.42666667e+00,  7.93333333e-01,\n",
       "        8.54083333e+00,  3.41416667e+00,  6.35666667e+00,  4.59083333e+00,\n",
       "        4.26500000e+00,  8.27500000e-01,  2.88083333e+00,  4.61666667e-01,\n",
       "        5.01083333e+00,  9.25416667e+00,  1.37683333e+01,  2.39058333e+01,\n",
       "        3.46083333e+01,  3.73033333e+01,  3.85608333e+01,  4.18191667e+01,\n",
       "        4.11291667e+01,  3.67475000e+01,  3.78258333e+01,  3.39583333e+01,\n",
       "        3.37633333e+01,  2.80583333e+01,  3.11091667e+01,  3.13850000e+01,\n",
       "        3.03075000e+01,  2.56866667e+01,  3.01158333e+01,  2.47775000e+01,\n",
       "        2.33025000e+01,  2.66675000e+01,  2.24166667e+01,  2.98283333e+01,\n",
       "        2.76100000e+01,  2.44458333e+01,  2.59766667e+01,  2.21225000e+01,\n",
       "        1.54175000e+01,  2.39966667e+01,  2.39016667e+01,  2.43725000e+01,\n",
       "        3.10908333e+01,  3.29016667e+01,  3.64291667e+01,  3.72700000e+01,\n",
       "        2.95991667e+01,  2.96441667e+01,  1.97808333e+01,  1.55075000e+01,\n",
       "        6.45833333e+00,  1.31091667e+01,  8.61750000e+00,  5.65666667e+00,\n",
       "       -1.15750000e+00,  5.11666667e+00,  4.35833333e-01,  3.55916667e+00,\n",
       "        5.36666667e+00, -1.07500000e-01,  6.04166667e-01, -3.71083333e+00,\n",
       "        4.92500000e-01,  1.71666667e-01,  7.13166667e+00, -6.83333333e-01,\n",
       "        4.09750000e+00,  3.71333333e+00,  2.63000000e+00,  1.67750000e+00,\n",
       "        1.72333333e+00,  1.27000000e+00, -3.72500000e-01,  4.46666667e+00,\n",
       "        4.08250000e+00,  1.47416667e+01,  2.29866667e+01,  3.62375000e+01,\n",
       "        4.97725000e+01,  3.60133333e+01,  4.53216667e+01,  3.89141667e+01,\n",
       "        4.37916667e+01,  3.81250000e+01,  3.65233333e+01,  3.12691667e+01,\n",
       "        2.74925000e+01,  2.55900000e+01,  2.02625000e+01,  2.17300000e+01,\n",
       "        2.20900000e+01,  1.75100000e+01,  2.87075000e+01,  1.77600000e+01,\n",
       "        1.81033333e+01,  1.33391667e+01,  1.79591667e+01,  1.57191667e+01,\n",
       "        2.19316667e+01,  1.33583333e+01,  1.41158333e+01,  1.56108333e+01,\n",
       "        2.81383333e+01,  2.98966667e+01,  2.15941667e+01,  2.14300000e+01,\n",
       "        2.15225000e+01,  3.76666667e+01,  3.85383333e+01,  3.91558333e+01,\n",
       "        3.49391667e+01,  2.21516667e+01,  2.81233333e+01,  2.16641667e+01,\n",
       "        9.86916667e+00,  9.83250000e+00,  7.19250000e+00,  7.81166667e+00,\n",
       "        7.61000000e+00, -6.27750000e+00,  3.77416667e+00,  1.15416667e+00,\n",
       "        1.76416667e+00,  3.44833333e+00,  3.22833333e+00,  4.33250000e+00,\n",
       "        1.50083333e+00,  2.85750000e+00, -1.87166667e+00,  7.47250000e+00])"
      ]
     },
     "execution_count": 150,
     "metadata": {},
     "output_type": "execute_result"
    }
   ],
   "source": [
    "data[1]"
   ]
  },
  {
   "cell_type": "code",
   "execution_count": 143,
   "id": "5e0fd49a",
   "metadata": {},
   "outputs": [
    {
     "name": "stdout",
     "output_type": "stream",
     "text": [
      "len data 1  640\n",
      "bi  2.1908333333336714 bs  17.824791666666783\n",
      "mediane data1  6.206666666666706\n",
      "mean data1  13.07994270833333\n"
     ]
    }
   ],
   "source": [
    "data = hdul[175].data\n",
    "print('len data 1 ', len(data[1]))\n",
    "q1,q3 = np.quantile(data[1], 0.25), np.quantile(data[1], 0.75)\n",
    "IQR = q3-q1\n",
    "bi,bs = q1 - 1.5*IQR , q3+1.5*IQR\n",
    "bi, bs\n",
    "dataqir=[]\n",
    "for i in data[1]:\n",
    "    if bi<i<bs:\n",
    "        dataqir.append(i)\n",
    "        \n",
    "print('bi ', q1, 'bs ', q3)\n",
    "dataqir\n",
    "print('mediane data1 ',np.median(data[1]))\n",
    "print('mean data1 ',np.mean(data[1]))"
   ]
  },
  {
   "cell_type": "code",
   "execution_count": 149,
   "id": "b6998310",
   "metadata": {},
   "outputs": [
    {
     "name": "stdout",
     "output_type": "stream",
     "text": [
      "[-0.6750000000000682, -0.444374999999809, -0.23687499999994088, -0.7312500000000455, -0.9552083333334167, -0.4195833333333212, -1.2195833333332757, -0.24749999999983174, -0.5114583333332803, -0.3606250000000273, -0.47041666666666515, -0.25833333333332575, -0.783958333333203, -0.7539583333334576, -0.6497916666664878, -0.6664583333333667, -0.8350000000000364, -0.8422916666665969, -1.0947916666667652, -0.5918750000000728, -0.5829166666667334, -0.5968750000000682, -0.705208333333303, -0.9179166666667697, -0.6322916666665606, -0.46270833333323935, -1.0418750000000045, -0.6858333333333348, -0.7437499999999773, -1.0543749999998226, -0.8291666666667652, -0.9035416666663423, -0.863541666666606, -0.2624999999999318, -0.5364583333332575, -0.7889583333333121, -0.771041666666747, -0.4733333333334713, -0.17208333333337578, -1.1581249999999272, -0.5700000000001637, -0.619583333333253, -0.6187499999999773, -0.9266666666666197, -0.6675000000001319, -0.6010416666666742, -0.7883333333332985, -0.31604166666681976, -0.8472916666665924, -1.1852083333333212, -0.5297916666667106, -0.55499999999995, -0.5866666666667015, -0.536666666666747, -0.6268750000000409, -0.9356249999999591, -0.4985416666667106, -0.32520833333342125, -0.3795833333334713, -0.39020833333336213, -0.44666666666682886, -0.5699999999999363, -0.16291666666688798, -0.12479166666662422, -0.2020833333332348, -0.1406249999998863, -0.4641666666665287, -0.8202083333333121, -0.6256250000000136, -0.4820833333334349, -0.439583333333303, -0.7291666666666288, -0.2143750000000182, -0.4387500000000273, -0.14479166666671972, -0.3093750000000455, -0.970833333333303, -0.7527083333333167, -0.49583333333339397, -0.4654166666667834, -0.44562499999995, -0.17916666666656056, -0.1754166666665924, -0.2964583333334758, -0.16041666666660603, -0.08145833333344399, -0.6641666666668016, -0.38999999999987267, -0.07625000000007276, 0.25416666666660603, -0.5074999999998226, -0.011250000000131877, 0.12666666666677884, 0.06770833333348492, 0.21500000000003183, 0.19833333333338032, 0.35437500000011823, 0.1810416666666015, 0.5172916666666652, 0.42812500000002274, -0.049583333333430346, 0.3056249999999636, 0.19624999999996362, 0.9004166666666151, 0.7118749999999636, 0.9333333333332803, 0.7608333333333803, 0.9654166666667834, 1.1389583333333348, 1.2352083333332757, 0.7547916666666197, 1.3370833333332257, 1.892708333333303, 2.0362499999999955, 2.5577083333333803, 2.2043749999999136, 2.366041666666547, 2.9937499999998636, 3.019374999999968, 3.6052083333332803, 3.4670833333334485, 3.573750000000018, 4.49187500000005, 4.663541666666674, 4.844166666666638, 5.146666666666761, 5.226458333333312, 5.781041666666738, 7.095208333333403, 7.14479166666672, 7.826250000000073, 7.791249999999991, 9.023541666666688, 10.68145833333324, 10.52229166666666, 11.146458333333385, 11.863749999999868, 14.071666666666715, 15.215624999999932, 17.22708333333344, 17.686874999999986, 18.767499999999927, 20.810208333333435, 24.04520833333345, 26.21250000000009, 26.40770833333329, 28.959375000000136, 33.66687499999989, 38.51041666666663, 42.31854166666665, 44.054166666666674, 46.2252083333334, 55.14291666666679, 61.64083333333349, 68.36458333333348, 70.0949999999998, 77.65812500000015, 76.4174999999999, 87.15958333333333, 101.98979166666663, 117.94416666666655, 124.28250000000014, 131.7402083333335, 147.1947916666668, 162.8947916666666, 176.75437499999998, 186.5433333333333, 211.67708333333326, 246.18645833333335, 262.266875, 270.4808333333333, 275.4870833333333, 289.4545833333333, 323.2029166666666, 347.49395833333335, 381.51833333333343, 396.93354166666654, 410.0443750000002, 438.5902083333333, 446.3302083333334, 434.9372916666665, 421.816875, 436.02666666666653, 462.2797916666668, 466.9645833333334, 453.76895833333333, 447.1947916666667, 460.80625, 493.5400000000001, 498.76604166666675, 479.72833333333335, 468.30854166666654, 488.885, 519.3708333333334, 529.9649999999999, 516.0839583333334, 509.8660416666668, 543.5122916666667, 586.3327083333334, 589.8189583333332, 569.1262500000001, 542.1702083333333, 551.6979166666666, 595.5227083333334, 605.3183333333334, 566.6460416666667, 540.5754166666666, 542.02875, 572.1139583333332, 582.9762499999999, 572.2543749999999, 552.9564583333333, 553.8633333333333, 570.5768750000001, 600.2308333333333, 606.4962499999998, 590.0408333333332, 578.7831249999999, 596.7033333333335, 624.2708333333334, 623.6383333333334, 600.9435416666666, 594.4660416666666, 618.3891666666665, 635.8891666666667, 637.894375, 614.7195833333334, 593.1766666666666, 609.4727083333332, 631.6827083333333, 618.3050000000001, 595.1610416666666, 590.6322916666668, 613.0212499999998, 635.0208333333333, 621.4843749999999, 592.9731249999999, 587.9183333333333, 617.1260416666667, 634.6427083333333, 622.7875, 602.0670833333334, 597.3149999999999, 628.2579166666665, 651.8547916666668, 635.0575000000001, 601.3727083333333, 598.7570833333334, 625.8237500000001, 643.1810416666666, 627.7175000000001, 597.97, 593.4297916666667, 623.7479166666667, 639.23375, 615.9612500000002, 586.7281250000001, 576.3275, 607.3399999999999, 628.89625, 616.7929166666665, 589.2129166666666, 584.3816666666669, 610.8041666666667, 632.681875, 616.4764583333332, 584.9760416666666, 583.4114583333331, 611.0281249999999, 623.4427083333334, 598.3729166666666, 575.3033333333333, 574.6116666666668, 580.4233333333333, 597.056875, 595.6472916666669, 567.925, 546.4202083333332, 553.4120833333334, 568.448125, 558.458125, 527.9922916666668, 507.2166666666668, 516.3025, 531.2293749999999, 523.7508333333334, 498.0647916666667, 486.74041666666653, 497.42708333333337, 510.2329166666667, 503.8358333333332, 474.41166666666675, 455.80916666666644, 458.68000000000006, 469.9616666666667, 461.06687499999987, 434.85541666666666, 408.0341666666666, 413.1006249999999, 416.38583333333315, 392.45500000000015, 357.80645833333324, 333.80645833333335, 330.384375, 334.03874999999994, 319.09187499999996, 289.49458333333325, 266.068125, 266.5156249999998, 261.765, 235.46104166666657, 215.39166666666665, 192.68083333333334, 184.22000000000014, 184.16625, 171.4993750000001, 152.88020833333337, 141.8664583333334, 135.1427083333333, 127.90041666666662, 115.69270833333348, 101.60333333333335, 92.29687499999989, 87.77874999999995, 83.87729166666657, 76.84645833333343, 66.7279166666666, 62.3522916666667, 59.04833333333329, 56.27229166666666, 51.96145833333321, 46.36687500000005, 40.53458333333322, 39.569791666666674, 37.56875000000002, 33.874374999999986, 30.326250000000073, 28.43958333333319, 28.158541666666565, 26.66520833333334, 23.79833333333329, 20.896458333333385, 20.60437499999989, 18.921458333333476, 18.15375000000006, 17.767708333333303, 16.273333333333312, 14.597916666666606, 14.061249999999973, 13.775624999999877]\n"
     ]
    }
   ],
   "source": [
    "medhdul = []\n",
    "for i in range(1,len(hdul)):\n",
    "    meddata = []\n",
    "    for j in range(0, len(data)):\n",
    "        meddata.append(np.median(hdul[i].data[j]))\n",
    "    medhdul.append(np.median(meddata))\n",
    "print(medhdul)\n",
    "        \n",
    "        "
   ]
  },
  {
   "cell_type": "code",
   "execution_count": 145,
   "id": "9e39acad",
   "metadata": {},
   "outputs": [
    {
     "name": "stdout",
     "output_type": "stream",
     "text": [
      "512\n"
     ]
    }
   ],
   "source": [
    "print(len(data))"
   ]
  },
  {
   "cell_type": "code",
   "execution_count": 142,
   "id": "b398b2fe",
   "metadata": {},
   "outputs": [
    {
     "data": {
      "text/plain": [
       "(array([ 32., 243., 181.,  33.,  35.,  28.,  27.,  32.,  22.,   7.]),\n",
       " array([-10.54      ,  -2.63616667,   5.26766667,  13.1715    ,\n",
       "         21.07533333,  28.97916667,  36.883     ,  44.78683333,\n",
       "         52.69066667,  60.5945    ,  68.49833333]),\n",
       " <BarContainer object of 10 artists>)"
      ]
     },
     "execution_count": 142,
     "metadata": {},
     "output_type": "execute_result"
    },
    {
     "data": {
      "image/png": "[encoded data removed]",
      "text/plain": [
       "<Figure size 640x480 with 1 Axes>"
      ]
     },
     "metadata": {},
     "output_type": "display_data"
    }
   ],
   "source": [
    "plt.hist(data[1])"
   ]
  },
  {
   "cell_type": "code",
   "execution_count": 84,
   "id": "376f7862",
   "metadata": {},
   "outputs": [],
   "source": [
    "def IQR():\n",
    "    if x > bi and x <bs:\n",
    "        return True"
   ]
  },
  {
   "cell_type": "code",
   "execution_count": 97,
   "id": "91d82b30",
   "metadata": {},
   "outputs": [
    {
     "data": {
      "text/plain": [
       "-2.895833333333485"
      ]
     },
     "execution_count": 97,
     "metadata": {},
     "output_type": "execute_result"
    }
   ],
   "source": [
    "data[1][2]"
   ]
  },
  {
   "cell_type": "code",
   "execution_count": 98,
   "id": "863b104f",
   "metadata": {},
   "outputs": [
    {
     "ename": "IndexError",
     "evalue": "only integers, slices (`:`), ellipsis (`...`), numpy.newaxis (`None`) and integer or boolean arrays are valid indices",
     "output_type": "error",
     "traceback": [
      "\u001b[1;31m---------------------------------------------------------------------------\u001b[0m",
      "\u001b[1;31mIndexError\u001b[0m                                Traceback (most recent call last)",
      "\u001b[1;32m~\\AppData\\Local\\Temp\\ipykernel_18508\\1563120355.py\u001b[0m in \u001b[0;36m<module>\u001b[1;34m\u001b[0m\n\u001b[0;32m      1\u001b[0m \u001b[0mi\u001b[0m\u001b[1;33m=\u001b[0m\u001b[1;36m0\u001b[0m\u001b[1;33m\u001b[0m\u001b[1;33m\u001b[0m\u001b[0m\n\u001b[0;32m      2\u001b[0m \u001b[1;32mfor\u001b[0m \u001b[0mi\u001b[0m \u001b[1;32min\u001b[0m \u001b[0mdata\u001b[0m\u001b[1;33m[\u001b[0m\u001b[0mi\u001b[0m\u001b[1;33m]\u001b[0m\u001b[1;33m:\u001b[0m\u001b[1;33m\u001b[0m\u001b[1;33m\u001b[0m\u001b[0m\n\u001b[1;32m----> 3\u001b[1;33m     \u001b[1;32mfor\u001b[0m \u001b[0mj\u001b[0m \u001b[1;32min\u001b[0m \u001b[0mdata\u001b[0m\u001b[1;33m[\u001b[0m\u001b[0mi\u001b[0m\u001b[1;33m]\u001b[0m\u001b[1;33m[\u001b[0m\u001b[0mj\u001b[0m\u001b[1;33m]\u001b[0m\u001b[1;33m:\u001b[0m\u001b[1;33m\u001b[0m\u001b[1;33m\u001b[0m\u001b[0m\n\u001b[0m\u001b[0;32m      4\u001b[0m         \u001b[0mliste\u001b[0m \u001b[1;33m=\u001b[0m\u001b[0mfilter\u001b[0m\u001b[1;33m(\u001b[0m\u001b[0mIQR\u001b[0m\u001b[1;33m(\u001b[0m\u001b[1;33m)\u001b[0m\u001b[1;33m,\u001b[0m\u001b[0mdata\u001b[0m\u001b[1;33m[\u001b[0m\u001b[0mi\u001b[0m\u001b[1;33m]\u001b[0m\u001b[1;33m[\u001b[0m\u001b[0mj\u001b[0m\u001b[1;33m]\u001b[0m\u001b[1;33m)\u001b[0m\u001b[1;33m\u001b[0m\u001b[1;33m\u001b[0m\u001b[0m\n\u001b[0;32m      5\u001b[0m         \u001b[0ml\u001b[0m\u001b[1;33m.\u001b[0m\u001b[0mappend\u001b[0m\u001b[1;33m(\u001b[0m\u001b[0mliste\u001b[0m\u001b[1;33m)\u001b[0m\u001b[1;33m\u001b[0m\u001b[1;33m\u001b[0m\u001b[0m\n",
      "\u001b[1;31mIndexError\u001b[0m: only integers, slices (`:`), ellipsis (`...`), numpy.newaxis (`None`) and integer or boolean arrays are valid indices"
     ]
    }
   ],
   "source": [
    "i=0\n",
    "for i in data[i]:\n",
    "    for j in data[i][j]:\n",
    "        liste =filter(IQR(),data[i][j])\n",
    "        l.append(liste)\n",
    "        print(l)"
   ]
  },
  {
   "cell_type": "code",
   "execution_count": null,
   "id": "39885cac",
   "metadata": {},
   "outputs": [],
   "source": [
    "for x in data:\n",
    "    if ( x < bi):\n",
    "        data.remove(x)\n",
    "print('len data 2 ', len(data))\n",
    "#np.median(data)"
   ]
  },
  {
   "cell_type": "code",
   "execution_count": 37,
   "id": "c088cad5",
   "metadata": {},
   "outputs": [
    {
     "name": "stdout",
     "output_type": "stream",
     "text": [
      "351\n"
     ]
    }
   ],
   "source": [
    "print(len(hdul))"
   ]
  },
  {
   "cell_type": "code",
   "execution_count": null,
   "id": "fac3566b",
   "metadata": {},
   "outputs": [],
   "source": [
    "for i in range (1, len(hdul)):\n",
    "    "
   ]
  },
  {
   "cell_type": "code",
   "execution_count": 33,
   "id": "73aa031d",
   "metadata": {},
   "outputs": [
    {
     "name": "stdout",
     "output_type": "stream",
     "text": [
      "Filename: /Users/raynaudy/Music/Programmation/20220921_174534_scanCH4_00000.fits\n",
      "No.    Name      Ver    Type      Cards   Dimensions   Format\n",
      "  0  PRIMARY       1 PrimaryHDU       6   ()      \n",
      "  1  20220922_161155_,25    1 ImageHDU        21   (640, 512)   float64   \n",
      "  2  20220922_161158_,02    1 ImageHDU        21   (640, 512)   float64   \n",
      "  3  20220922_161200_,89    1 ImageHDU        21   (640, 512)   float64   \n",
      "  4  20220922_161203_,64    1 ImageHDU        21   (640, 512)   float64   \n",
      "  5  20220922_161206_,49    1 ImageHDU        21   (640, 512)   float64   \n",
      "  6  20220922_161209_,30    1 ImageHDU        21   (640, 512)   float64   \n",
      "  7  20220922_161212_,13    1 ImageHDU        21   (640, 512)   float64   \n",
      "  8  20220922_161214_,97    1 ImageHDU        21   (640, 512)   float64   \n",
      "  9  20220922_161217_,86    1 ImageHDU        21   (640, 512)   float64   \n",
      " 10  20220922_161220_,63    1 ImageHDU        21   (640, 512)   float64   \n",
      " 11  20220922_161223_,50    1 ImageHDU        21   (640, 512)   float64   \n",
      " 12  20220922_161226_,30    1 ImageHDU        21   (640, 512)   float64   \n",
      " 13  20220922_161229_,10    1 ImageHDU        21   (640, 512)   float64   \n",
      " 14  20220922_161231_,89    1 ImageHDU        21   (640, 512)   float64   \n",
      " 15  20220922_161234_,74    1 ImageHDU        21   (640, 512)   float64   \n",
      " 16  20220922_161237_,61    1 ImageHDU        21   (640, 512)   float64   \n",
      " 17  20220922_161240_,38    1 ImageHDU        21   (640, 512)   float64   \n",
      " 18  20220922_161243_,24    1 ImageHDU        21   (640, 512)   float64   \n",
      " 19  20220922_161246_,09    1 ImageHDU        21   (640, 512)   float64   \n",
      " 20  20220922_161248_,88    1 ImageHDU        21   (640, 512)   float64   \n",
      " 21  20220922_161251_,65    1 ImageHDU        21   (640, 512)   float64   \n",
      " 22  20220922_161254_,50    1 ImageHDU        21   (640, 512)   float64   \n",
      " 23  20220922_161257_,25    1 ImageHDU        21   (640, 512)   float64   \n",
      " 24  20220922_161300_,08    1 ImageHDU        21   (640, 512)   float64   \n",
      " 25  20220922_161302_,94    1 ImageHDU        21   (640, 512)   float64   \n",
      " 26  20220922_161305_,73    1 ImageHDU        21   (640, 512)   float64   \n",
      " 27  20220922_161308_,54    1 ImageHDU        21   (640, 512)   float64   \n",
      " 28  20220922_161311_,26    1 ImageHDU        21   (640, 512)   float64   \n",
      " 29  20220922_161314_,18    1 ImageHDU        21   (640, 512)   float64   \n",
      " 30  20220922_161316_,89    1 ImageHDU        21   (640, 512)   float64   \n",
      " 31  20220922_161319_,69    1 ImageHDU        21   (640, 512)   float64   \n",
      " 32  20220922_161322_,42    1 ImageHDU        21   (640, 512)   float64   \n",
      " 33  20220922_161325_,24    1 ImageHDU        21   (640, 512)   float64   \n",
      " 34  20220922_161328_,02    1 ImageHDU        21   (640, 512)   float64   \n",
      " 35  20220922_161330_,90    1 ImageHDU        21   (640, 512)   float64   \n",
      " 36  20220922_161333_,74    1 ImageHDU        21   (640, 512)   float64   \n",
      " 37  20220922_161336_,50    1 ImageHDU        21   (640, 512)   float64   \n",
      " 38  20220922_161339_,33    1 ImageHDU        21   (640, 512)   float64   \n",
      " 39  20220922_161342_,13    1 ImageHDU        21   (640, 512)   float64   \n",
      " 40  20220922_161344_,96    1 ImageHDU        21   (640, 512)   float64   \n",
      " 41  20220922_161347_,84    1 ImageHDU        21   (640, 512)   float64   \n",
      " 42  20220922_161350_,64    1 ImageHDU        21   (640, 512)   float64   \n",
      " 43  20220922_161353_,50    1 ImageHDU        21   (640, 512)   float64   \n",
      " 44  20220922_161356_,32    1 ImageHDU        21   (640, 512)   float64   \n",
      " 45  20220922_161359_,10    1 ImageHDU        21   (640, 512)   float64   \n",
      " 46  20220922_161401_,82    1 ImageHDU        21   (640, 512)   float64   \n",
      " 47  20220922_161404_,62    1 ImageHDU        21   (640, 512)   float64   \n",
      " 48  20220922_161407_,37    1 ImageHDU        21   (640, 512)   float64   \n",
      " 49  20220922_161410_,22    1 ImageHDU        21   (640, 512)   float64   \n",
      " 50  20220922_161413_,05    1 ImageHDU        21   (640, 512)   float64   \n",
      " 51  20220922_161415_,88    1 ImageHDU        21   (640, 512)   float64   \n",
      " 52  20220922_161418_,73    1 ImageHDU        21   (640, 512)   float64   \n",
      " 53  20220922_161421_,57    1 ImageHDU        21   (640, 512)   float64   \n",
      " 54  20220922_161424_,32    1 ImageHDU        21   (640, 512)   float64   \n",
      " 55  20220922_161427_,17    1 ImageHDU        21   (640, 512)   float64   \n",
      " 56  20220922_161429_,98    1 ImageHDU        21   (640, 512)   float64   \n",
      " 57  20220922_161432_,79    1 ImageHDU        21   (640, 512)   float64   \n",
      " 58  20220922_161435_,60    1 ImageHDU        21   (640, 512)   float64   \n",
      " 59  20220922_161438_,49    1 ImageHDU        21   (640, 512)   float64   \n",
      " 60  20220922_161441_,34    1 ImageHDU        21   (640, 512)   float64   \n",
      " 61  20220922_161444_,17    1 ImageHDU        21   (640, 512)   float64   \n",
      " 62  20220922_161446_,93    1 ImageHDU        21   (640, 512)   float64   \n",
      " 63  20220922_161449_,74    1 ImageHDU        21   (640, 512)   float64   \n",
      " 64  20220922_161452_,54    1 ImageHDU        21   (640, 512)   float64   \n",
      " 65  20220922_161455_,32    1 ImageHDU        21   (640, 512)   float64   \n",
      " 66  20220922_161458_,18    1 ImageHDU        21   (640, 512)   float64   \n",
      " 67  20220922_161501_,06    1 ImageHDU        21   (640, 512)   float64   \n",
      " 68  20220922_161503_,86    1 ImageHDU        21   (640, 512)   float64   \n",
      " 69  20220922_161506_,65    1 ImageHDU        21   (640, 512)   float64   \n",
      " 70  20220922_161509_,50    1 ImageHDU        21   (640, 512)   float64   \n",
      " 71  20220922_161512_,33    1 ImageHDU        21   (640, 512)   float64   \n",
      " 72  20220922_161515_,18    1 ImageHDU        21   (640, 512)   float64   \n",
      " 73  20220922_161517_,98    1 ImageHDU        21   (640, 512)   float64   \n",
      " 74  20220922_161520_,86    1 ImageHDU        21   (640, 512)   float64   \n",
      " 75  20220922_161523_,66    1 ImageHDU        21   (640, 512)   float64   \n",
      " 76  20220922_161526_,49    1 ImageHDU        21   (640, 512)   float64   \n",
      " 77  20220922_161529_,34    1 ImageHDU        21   (640, 512)   float64   \n",
      " 78  20220922_161532_,22    1 ImageHDU        21   (640, 512)   float64   \n",
      " 79  20220922_161535_,10    1 ImageHDU        21   (640, 512)   float64   \n",
      " 80  20220922_161537_,89    1 ImageHDU        21   (640, 512)   float64   \n",
      " 81  20220922_161540_,70    1 ImageHDU        21   (640, 512)   float64   \n",
      " 82  20220922_161543_,50    1 ImageHDU        21   (640, 512)   float64   \n",
      " 83  20220922_161546_,34    1 ImageHDU        21   (640, 512)   float64   \n",
      " 84  20220922_161549_,15    1 ImageHDU        21   (640, 512)   float64   \n",
      " 85  20220922_161552_,06    1 ImageHDU        21   (640, 512)   float64   \n",
      " 86  20220922_161554_,89    1 ImageHDU        21   (640, 512)   float64   \n",
      " 87  20220922_161557_,72    1 ImageHDU        21   (640, 512)   float64   \n",
      " 88  20220922_161600_,54    1 ImageHDU        21   (640, 512)   float64   \n",
      " 89  20220922_161603_,42    1 ImageHDU        21   (640, 512)   float64   \n",
      " 90  20220922_161606_,22    1 ImageHDU        21   (640, 512)   float64   \n",
      " 91  20220922_161609_,02    1 ImageHDU        21   (640, 512)   float64   \n",
      " 92  20220922_161611_,89    1 ImageHDU        21   (640, 512)   float64   \n",
      " 93  20220922_161614_,73    1 ImageHDU        21   (640, 512)   float64   \n",
      " 94  20220922_161617_,61    1 ImageHDU        21   (640, 512)   float64   \n",
      " 95  20220922_161620_,40    1 ImageHDU        21   (640, 512)   float64   \n",
      " 96  20220922_161623_,25    1 ImageHDU        21   (640, 512)   float64   \n",
      " 97  20220922_161626_,08    1 ImageHDU        21   (640, 512)   float64   \n",
      " 98  20220922_161628_,88    1 ImageHDU        21   (640, 512)   float64   \n",
      " 99  20220922_161631_,68    1 ImageHDU        21   (640, 512)   float64   \n",
      "100  20220922_161634_,54    1 ImageHDU        21   (640, 512)   float64   \n",
      "101  20220922_161637_,42    1 ImageHDU        21   (640, 512)   float64   \n",
      "102  20220922_161640_,18    1 ImageHDU        21   (640, 512)   float64   \n",
      "103  20220922_161643_,02    1 ImageHDU        21   (640, 512)   float64   \n",
      "104  20220922_161645_,81    1 ImageHDU        21   (640, 512)   float64   \n",
      "105  20220922_161648_,64    1 ImageHDU        21   (640, 512)   float64   \n",
      "106  20220922_161651_,45    1 ImageHDU        21   (640, 512)   float64   \n",
      "107  20220922_161654_,21    1 ImageHDU        21   (640, 512)   float64   \n",
      "108  20220922_161657_,06    1 ImageHDU        21   (640, 512)   float64   \n",
      "109  20220922_161659_,86    1 ImageHDU        21   (640, 512)   float64   \n",
      "110  20220922_161702_,68    1 ImageHDU        21   (640, 512)   float64   \n",
      "111  20220922_161705_,56    1 ImageHDU        21   (640, 512)   float64   \n",
      "112  20220922_161708_,40    1 ImageHDU        21   (640, 512)   float64   \n",
      "113  20220922_161711_,16    1 ImageHDU        21   (640, 512)   float64   \n",
      "114  20220922_161713_,98    1 ImageHDU        21   (640, 512)   float64   \n",
      "115  20220922_161716_,80    1 ImageHDU        21   (640, 512)   float64   \n",
      "116  20220922_161719_,74    1 ImageHDU        21   (640, 512)   float64   \n",
      "117  20220922_161722_,61    1 ImageHDU        21   (640, 512)   float64   \n",
      "118  20220922_161725_,46    1 ImageHDU        21   (640, 512)   float64   \n",
      "119  20220922_161728_,28    1 ImageHDU        21   (640, 512)   float64   \n",
      "120  20220922_161731_,04    1 ImageHDU        21   (640, 512)   float64   \n",
      "121  20220922_161733_,89    1 ImageHDU        21   (640, 512)   float64   \n",
      "122  20220922_161736_,69    1 ImageHDU        21   (640, 512)   float64   \n",
      "123  20220922_161739_,52    1 ImageHDU        21   (640, 512)   float64   \n",
      "124  20220922_161742_,33    1 ImageHDU        21   (640, 512)   float64   \n",
      "125  20220922_161745_,09    1 ImageHDU        21   (640, 512)   float64   \n",
      "126  20220922_161747_,86    1 ImageHDU        21   (640, 512)   float64   \n",
      "127  20220922_161750_,74    1 ImageHDU        21   (640, 512)   float64   \n",
      "128  20220922_161753_,54    1 ImageHDU        21   (640, 512)   float64   \n",
      "129  20220922_161756_,32    1 ImageHDU        21   (640, 512)   float64   \n",
      "130  20220922_161759_,16    1 ImageHDU        21   (640, 512)   float64   \n",
      "131  20220922_161801_,94    1 ImageHDU        21   (640, 512)   float64   \n",
      "132  20220922_161804_,72    1 ImageHDU        21   (640, 512)   float64   \n",
      "133  20220922_161807_,50    1 ImageHDU        21   (640, 512)   float64   \n",
      "134  20220922_161810_,30    1 ImageHDU        21   (640, 512)   float64   \n",
      "135  20220922_161813_,13    1 ImageHDU        21   (640, 512)   float64   \n",
      "136  20220922_161815_,96    1 ImageHDU        21   (640, 512)   float64   \n",
      "137  20220922_161818_,78    1 ImageHDU        21   (640, 512)   float64   \n",
      "138  20220922_161821_,66    1 ImageHDU        21   (640, 512)   float64   \n",
      "139  20220922_161824_,44    1 ImageHDU        21   (640, 512)   float64   \n",
      "140  20220922_161827_,26    1 ImageHDU        21   (640, 512)   float64   \n",
      "141  20220922_161830_,09    1 ImageHDU        21   (640, 512)   float64   \n",
      "142  20220922_161832_,86    1 ImageHDU        21   (640, 512)   float64   \n",
      "143  20220922_161835_,70    1 ImageHDU        21   (640, 512)   float64   \n",
      "144  20220922_161838_,50    1 ImageHDU        21   (640, 512)   float64   \n",
      "145  20220922_161841_,36    1 ImageHDU        21   (640, 512)   float64   \n",
      "146  20220922_161844_,21    1 ImageHDU        21   (640, 512)   float64   \n",
      "147  20220922_161847_,00    1 ImageHDU        21   (640, 512)   float64   \n",
      "148  20220922_161849_,80    1 ImageHDU        21   (640, 512)   float64   \n",
      "149  20220922_161852_,60    1 ImageHDU        21   (640, 512)   float64   \n",
      "150  20220922_161855_,45    1 ImageHDU        21   (640, 512)   float64   \n",
      "151  20220922_161858_,20    1 ImageHDU        21   (640, 512)   float64   \n",
      "152  20220922_161901_,10    1 ImageHDU        21   (640, 512)   float64   \n",
      "153  20220922_161903_,92    1 ImageHDU        21   (640, 512)   float64   \n",
      "154  20220922_161906_,66    1 ImageHDU        21   (640, 512)   float64   \n",
      "155  20220922_161909_,48    1 ImageHDU        21   (640, 512)   float64   \n",
      "156  20220922_161912_,28    1 ImageHDU        21   (640, 512)   float64   \n",
      "157  20220922_161915_,16    1 ImageHDU        21   (640, 512)   float64   \n",
      "158  20220922_161917_,98    1 ImageHDU        21   (640, 512)   float64   \n",
      "159  20220922_161920_,78    1 ImageHDU        21   (640, 512)   float64   \n",
      "160  20220922_161923_,58    1 ImageHDU        21   (640, 512)   float64   \n",
      "161  20220922_161926_,46    1 ImageHDU        21   (640, 512)   float64   \n",
      "162  20220922_161929_,28    1 ImageHDU        21   (640, 512)   float64   \n",
      "163  20220922_161932_,12    1 ImageHDU        21   (640, 512)   float64   \n",
      "164  20220922_161934_,94    1 ImageHDU        21   (640, 512)   float64   \n",
      "165  20220922_161937_,78    1 ImageHDU        21   (640, 512)   float64   \n",
      "166  20220922_161940_,62    1 ImageHDU        21   (640, 512)   float64   \n",
      "167  20220922_161943_,44    1 ImageHDU        21   (640, 512)   float64   \n",
      "168  20220922_161946_,28    1 ImageHDU        21   (640, 512)   float64   \n",
      "169  20220922_161949_,06    1 ImageHDU        21   (640, 512)   float64   \n",
      "170  20220922_161951_,84    1 ImageHDU        21   (640, 512)   float64   \n",
      "171  20220922_161954_,66    1 ImageHDU        21   (640, 512)   float64   \n",
      "172  20220922_161957_,46    1 ImageHDU        21   (640, 512)   float64   \n",
      "173  20220922_162000_,25    1 ImageHDU        21   (640, 512)   float64   \n",
      "174  20220922_162003_,10    1 ImageHDU        21   (640, 512)   float64   \n",
      "175  20220922_162005_,88    1 ImageHDU        21   (640, 512)   float64   \n",
      "176  20220922_162008_,74    1 ImageHDU        21   (640, 512)   float64   \n",
      "177  20220922_162011_,56    1 ImageHDU        21   (640, 512)   float64   \n",
      "178  20220922_162014_,45    1 ImageHDU        21   (640, 512)   float64   \n",
      "179  20220922_162017_,26    1 ImageHDU        21   (640, 512)   float64   \n",
      "180  20220922_162019_,98    1 ImageHDU        21   (640, 512)   float64   \n",
      "181  20220922_162022_,86    1 ImageHDU        21   (640, 512)   float64   \n",
      "182  20220922_162025_,64    1 ImageHDU        21   (640, 512)   float64   \n",
      "183  20220922_162028_,48    1 ImageHDU        21   (640, 512)   float64   \n",
      "184  20220922_162031_,34    1 ImageHDU        21   (640, 512)   float64   \n",
      "185  20220922_162034_,12    1 ImageHDU        21   (640, 512)   float64   \n",
      "186  20220922_162036_,96    1 ImageHDU        21   (640, 512)   float64   \n",
      "187  20220922_162039_,78    1 ImageHDU        21   (640, 512)   float64   \n",
      "188  20220922_162042_,60    1 ImageHDU        21   (640, 512)   float64   \n",
      "189  20220922_162045_,34    1 ImageHDU        21   (640, 512)   float64   \n",
      "190  20220922_162048_,12    1 ImageHDU        21   (640, 512)   float64   \n",
      "191  20220922_162050_,92    1 ImageHDU        21   (640, 512)   float64   \n",
      "192  20220922_162053_,78    1 ImageHDU        21   (640, 512)   float64   \n",
      "193  20220922_162056_,60    1 ImageHDU        21   (640, 512)   float64   \n",
      "194  20220922_162059_,41    1 ImageHDU        21   (640, 512)   float64   \n",
      "195  20220922_162102_,21    1 ImageHDU        21   (640, 512)   float64   \n",
      "196  20220922_162105_,00    1 ImageHDU        21   (640, 512)   float64   \n",
      "197  20220922_162107_,82    1 ImageHDU        21   (640, 512)   float64   \n",
      "198  20220922_162110_,60    1 ImageHDU        21   (640, 512)   float64   \n",
      "199  20220922_162113_,40    1 ImageHDU        21   (640, 512)   float64   \n",
      "200  20220922_162116_,20    1 ImageHDU        21   (640, 512)   float64   \n",
      "201  20220922_162119_,09    1 ImageHDU        21   (640, 512)   float64   \n",
      "202  20220922_162121_,89    1 ImageHDU        21   (640, 512)   float64   \n",
      "203  20220922_162124_,68    1 ImageHDU        21   (640, 512)   float64   \n",
      "204  20220922_162127_,48    1 ImageHDU        21   (640, 512)   float64   \n",
      "205  20220922_162130_,28    1 ImageHDU        21   (640, 512)   float64   \n",
      "206  20220922_162133_,10    1 ImageHDU        21   (640, 512)   float64   \n",
      "207  20220922_162135_,92    1 ImageHDU        21   (640, 512)   float64   \n",
      "208  20220922_162138_,74    1 ImageHDU        21   (640, 512)   float64   \n",
      "209  20220922_162141_,54    1 ImageHDU        21   (640, 512)   float64   \n",
      "210  20220922_162144_,28    1 ImageHDU        21   (640, 512)   float64   \n",
      "211  20220922_162147_,10    1 ImageHDU        21   (640, 512)   float64   \n",
      "212  20220922_162149_,88    1 ImageHDU        21   (640, 512)   float64   \n",
      "213  20220922_162152_,73    1 ImageHDU        21   (640, 512)   float64   \n",
      "214  20220922_162155_,58    1 ImageHDU        21   (640, 512)   float64   \n",
      "215  20220922_162158_,41    1 ImageHDU        21   (640, 512)   float64   \n",
      "216  20220922_162201_,30    1 ImageHDU        21   (640, 512)   float64   \n",
      "217  20220922_162204_,04    1 ImageHDU        21   (640, 512)   float64   \n",
      "218  20220922_162206_,88    1 ImageHDU        21   (640, 512)   float64   \n",
      "219  20220922_162209_,68    1 ImageHDU        21   (640, 512)   float64   \n",
      "220  20220922_162212_,48    1 ImageHDU        21   (640, 512)   float64   \n",
      "221  20220922_162215_,28    1 ImageHDU        21   (640, 512)   float64   \n",
      "222  20220922_162218_,16    1 ImageHDU        21   (640, 512)   float64   \n",
      "223  20220922_162220_,98    1 ImageHDU        21   (640, 512)   float64   \n",
      "224  20220922_162223_,84    1 ImageHDU        21   (640, 512)   float64   \n",
      "225  20220922_162226_,64    1 ImageHDU        21   (640, 512)   float64   \n",
      "226  20220922_162229_,44    1 ImageHDU        21   (640, 512)   float64   \n",
      "227  20220922_162232_,28    1 ImageHDU        21   (640, 512)   float64   \n",
      "228  20220922_162235_,05    1 ImageHDU        21   (640, 512)   float64   \n",
      "229  20220922_162237_,80    1 ImageHDU        21   (640, 512)   float64   \n",
      "230  20220922_162240_,69    1 ImageHDU        21   (640, 512)   float64   \n",
      "231  20220922_162243_,48    1 ImageHDU        21   (640, 512)   float64   \n",
      "232  20220922_162246_,24    1 ImageHDU        21   (640, 512)   float64   \n",
      "233  20220922_162249_,05    1 ImageHDU        21   (640, 512)   float64   \n",
      "234  20220922_162251_,92    1 ImageHDU        21   (640, 512)   float64   \n",
      "235  20220922_162254_,74    1 ImageHDU        21   (640, 512)   float64   \n",
      "236  20220922_162257_,56    1 ImageHDU        21   (640, 512)   float64   \n",
      "237  20220922_162300_,37    1 ImageHDU        21   (640, 512)   float64   \n",
      "238  20220922_162303_,12    1 ImageHDU        21   (640, 512)   float64   \n",
      "239  20220922_162305_,96    1 ImageHDU        21   (640, 512)   float64   \n",
      "240  20220922_162308_,76    1 ImageHDU        21   (640, 512)   float64   \n",
      "241  20220922_162311_,56    1 ImageHDU        21   (640, 512)   float64   \n",
      "242  20220922_162314_,36    1 ImageHDU        21   (640, 512)   float64   \n",
      "243  20220922_162317_,22    1 ImageHDU        21   (640, 512)   float64   \n",
      "244  20220922_162320_,02    1 ImageHDU        21   (640, 512)   float64   \n",
      "245  20220922_162322_,84    1 ImageHDU        21   (640, 512)   float64   \n",
      "246  20220922_162325_,64    1 ImageHDU        21   (640, 512)   float64   \n",
      "247  20220922_162328_,54    1 ImageHDU        21   (640, 512)   float64   \n",
      "248  20220922_162331_,36    1 ImageHDU        21   (640, 512)   float64   \n",
      "249  20220922_162334_,20    1 ImageHDU        21   (640, 512)   float64   \n",
      "250  20220922_162336_,96    1 ImageHDU        21   (640, 512)   float64   \n",
      "251  20220922_162339_,76    1 ImageHDU        21   (640, 512)   float64   \n",
      "252  20220922_162342_,64    1 ImageHDU        21   (640, 512)   float64   \n",
      "253  20220922_162345_,48    1 ImageHDU        21   (640, 512)   float64   \n",
      "254  20220922_162348_,28    1 ImageHDU        21   (640, 512)   float64   \n",
      "255  20220922_162351_,06    1 ImageHDU        21   (640, 512)   float64   \n",
      "256  20220922_162353_,86    1 ImageHDU        21   (640, 512)   float64   \n",
      "257  20220922_162356_,66    1 ImageHDU        21   (640, 512)   float64   \n",
      "258  20220922_162359_,48    1 ImageHDU        21   (640, 512)   float64   \n",
      "259  20220922_162402_,36    1 ImageHDU        21   (640, 512)   float64   \n",
      "260  20220922_162405_,16    1 ImageHDU        21   (640, 512)   float64   \n",
      "261  20220922_162408_,03    1 ImageHDU        21   (640, 512)   float64   \n",
      "262  20220922_162410_,86    1 ImageHDU        21   (640, 512)   float64   \n",
      "263  20220922_162413_,66    1 ImageHDU        21   (640, 512)   float64   \n",
      "264  20220922_162416_,44    1 ImageHDU        21   (640, 512)   float64   \n",
      "265  20220922_162419_,24    1 ImageHDU        21   (640, 512)   float64   \n",
      "266  20220922_162422_,04    1 ImageHDU        21   (640, 512)   float64   \n",
      "267  20220922_162424_,90    1 ImageHDU        21   (640, 512)   float64   \n",
      "268  20220922_162427_,72    1 ImageHDU        21   (640, 512)   float64   \n",
      "269  20220922_162430_,48    1 ImageHDU        21   (640, 512)   float64   \n",
      "270  20220922_162433_,36    1 ImageHDU        21   (640, 512)   float64   \n",
      "271  20220922_162436_,12    1 ImageHDU        21   (640, 512)   float64   \n",
      "272  20220922_162438_,94    1 ImageHDU        21   (640, 512)   float64   \n",
      "273  20220922_162441_,78    1 ImageHDU        21   (640, 512)   float64   \n",
      "274  20220922_162444_,62    1 ImageHDU        21   (640, 512)   float64   \n",
      "275  20220922_162447_,40    1 ImageHDU        21   (640, 512)   float64   \n",
      "276  20220922_162450_,20    1 ImageHDU        21   (640, 512)   float64   \n",
      "277  20220922_162453_,02    1 ImageHDU        21   (640, 512)   float64   \n",
      "278  20220922_162455_,84    1 ImageHDU        21   (640, 512)   float64   \n",
      "279  20220922_162458_,66    1 ImageHDU        21   (640, 512)   float64   \n",
      "280  20220922_162501_,42    1 ImageHDU        21   (640, 512)   float64   \n",
      "281  20220922_162504_,28    1 ImageHDU        21   (640, 512)   float64   \n",
      "282  20220922_162507_,02    1 ImageHDU        21   (640, 512)   float64   \n",
      "283  20220922_162509_,86    1 ImageHDU        21   (640, 512)   float64   \n",
      "284  20220922_162512_,68    1 ImageHDU        21   (640, 512)   float64   \n",
      "285  20220922_162515_,52    1 ImageHDU        21   (640, 512)   float64   \n",
      "286  20220922_162518_,40    1 ImageHDU        21   (640, 512)   float64   \n",
      "287  20220922_162521_,28    1 ImageHDU        21   (640, 512)   float64   \n",
      "288  20220922_162524_,09    1 ImageHDU        21   (640, 512)   float64   \n",
      "289  20220922_162526_,94    1 ImageHDU        21   (640, 512)   float64   \n",
      "290  20220922_162529_,82    1 ImageHDU        21   (640, 512)   float64   \n",
      "291  20220922_162532_,66    1 ImageHDU        21   (640, 512)   float64   \n",
      "292  20220922_162535_,45    1 ImageHDU        21   (640, 512)   float64   \n",
      "293  20220922_162538_,21    1 ImageHDU        21   (640, 512)   float64   \n",
      "294  20220922_162541_,06    1 ImageHDU        21   (640, 512)   float64   \n",
      "295  20220922_162543_,90    1 ImageHDU        21   (640, 512)   float64   \n",
      "296  20220922_162546_,76    1 ImageHDU        21   (640, 512)   float64   \n",
      "297  20220922_162549_,58    1 ImageHDU        21   (640, 512)   float64   \n",
      "298  20220922_162552_,42    1 ImageHDU        21   (640, 512)   float64   \n",
      "299  20220922_162555_,20    1 ImageHDU        21   (640, 512)   float64   \n",
      "300  20220922_162558_,02    1 ImageHDU        21   (640, 512)   float64   \n",
      "301  20220922_162600_,80    1 ImageHDU        21   (640, 512)   float64   \n",
      "302  20220922_162603_,64    1 ImageHDU        21   (640, 512)   float64   \n",
      "303  20220922_162606_,44    1 ImageHDU        21   (640, 512)   float64   \n",
      "304  20220922_162609_,26    1 ImageHDU        21   (640, 512)   float64   \n",
      "305  20220922_162612_,10    1 ImageHDU        21   (640, 512)   float64   \n",
      "306  20220922_162614_,94    1 ImageHDU        21   (640, 512)   float64   \n",
      "307  20220922_162617_,76    1 ImageHDU        21   (640, 512)   float64   \n",
      "308  20220922_162620_,53    1 ImageHDU        21   (640, 512)   float64   \n",
      "309  20220922_162623_,37    1 ImageHDU        21   (640, 512)   float64   \n",
      "310  20220922_162626_,20    1 ImageHDU        21   (640, 512)   float64   \n",
      "311  20220922_162629_,02    1 ImageHDU        21   (640, 512)   float64   \n",
      "312  20220922_162631_,88    1 ImageHDU        21   (640, 512)   float64   \n",
      "313  20220922_162634_,68    1 ImageHDU        21   (640, 512)   float64   \n",
      "314  20220922_162637_,44    1 ImageHDU        21   (640, 512)   float64   \n",
      "315  20220922_162640_,26    1 ImageHDU        21   (640, 512)   float64   \n",
      "316  20220922_162643_,08    1 ImageHDU        21   (640, 512)   float64   \n",
      "317  20220922_162645_,92    1 ImageHDU        21   (640, 512)   float64   \n",
      "318  20220922_162648_,72    1 ImageHDU        21   (640, 512)   float64   \n",
      "319  20220922_162651_,48    1 ImageHDU        21   (640, 512)   float64   \n",
      "320  20220922_162654_,20    1 ImageHDU        21   (640, 512)   float64   \n",
      "321  20220922_162657_,04    1 ImageHDU        21   (640, 512)   float64   \n",
      "322  20220922_162659_,82    1 ImageHDU        21   (640, 512)   float64   \n",
      "323  20220922_162702_,64    1 ImageHDU        21   (640, 512)   float64   \n",
      "324  20220922_162705_,45    1 ImageHDU        21   (640, 512)   float64   \n",
      "325  20220922_162708_,34    1 ImageHDU        21   (640, 512)   float64   \n",
      "326  20220922_162711_,20    1 ImageHDU        21   (640, 512)   float64   \n",
      "327  20220922_162714_,06    1 ImageHDU        21   (640, 512)   float64   \n",
      "328  20220922_162716_,84    1 ImageHDU        21   (640, 512)   float64   \n",
      "329  20220922_162719_,65    1 ImageHDU        21   (640, 512)   float64   \n",
      "330  20220922_162722_,50    1 ImageHDU        21   (640, 512)   float64   \n",
      "331  20220922_162725_,30    1 ImageHDU        21   (640, 512)   float64   \n",
      "332  20220922_162728_,20    1 ImageHDU        21   (640, 512)   float64   \n",
      "333  20220922_162731_,00    1 ImageHDU        21   (640, 512)   float64   \n",
      "334  20220922_162733_,84    1 ImageHDU        21   (640, 512)   float64   \n",
      "335  20220922_162736_,66    1 ImageHDU        21   (640, 512)   float64   \n",
      "336  20220922_162739_,54    1 ImageHDU        21   (640, 512)   float64   \n",
      "337  20220922_162742_,42    1 ImageHDU        21   (640, 512)   float64   \n",
      "338  20220922_162745_,26    1 ImageHDU        21   (640, 512)   float64   \n",
      "339  20220922_162748_,12    1 ImageHDU        21   (640, 512)   float64   \n",
      "340  20220922_162750_,97    1 ImageHDU        21   (640, 512)   float64   \n",
      "341  20220922_162753_,86    1 ImageHDU        21   (640, 512)   float64   \n",
      "342  20220922_162756_,66    1 ImageHDU        21   (640, 512)   float64   \n",
      "343  20220922_162759_,52    1 ImageHDU        21   (640, 512)   float64   \n",
      "344  20220922_162802_,32    1 ImageHDU        21   (640, 512)   float64   \n",
      "345  20220922_162805_,16    1 ImageHDU        21   (640, 512)   float64   \n",
      "346  20220922_162808_,06    1 ImageHDU        21   (640, 512)   float64   \n",
      "347  20220922_162810_,88    1 ImageHDU        21   (640, 512)   float64   \n",
      "348  20220922_162813_,74    1 ImageHDU        21   (640, 512)   float64   \n",
      "349  20220922_162816_,58    1 ImageHDU        21   (640, 512)   float64   \n",
      "350  20220922_162819_,40    1 ImageHDU        21   (640, 512)   float64   \n"
     ]
    }
   ],
   "source": [
    "hdul.info()"
   ]
  },
  {
   "cell_type": "code",
   "execution_count": null,
   "id": "57f30f6f",
   "metadata": {},
   "outputs": [],
   "source": [
    "#data.field(0)"
   ]
  },
  {
   "cell_type": "code",
   "execution_count": null,
   "id": "1bda2d05",
   "metadata": {},
   "outputs": [],
   "source": []
  },
  {
   "cell_type": "code",
   "execution_count": null,
   "id": "1200c386",
   "metadata": {},
   "outputs": [],
   "source": []
  },
  {
   "cell_type": "code",
   "execution_count": null,
   "id": "912b987e",
   "metadata": {},
   "outputs": [],
   "source": [
    "\"\"\"\n",
    "from astropy.utils.data import get_pkg_data_filename\n",
    "\n",
    "file = get_pkg_data_filename('file.fits')\n",
    "fits.info(file)\n",
    "\n",
    "\n",
    "\"\"\""
   ]
  },
  {
   "cell_type": "code",
   "execution_count": null,
   "id": "2dcd344c",
   "metadata": {},
   "outputs": [],
   "source": [
    "\"\"\"\n",
    "TEST1\n",
    "from astropy.io import fits\n",
    "fits_image_filename =  astropy.io.fits.open(file)\n",
    "\n",
    "hdul = fits.open(fits_image_filename)\n",
    "hdul.info()\n",
    "\n",
    "\n",
    "TEST2\n",
    "fits_image_filename = fits.open(\"file.fits\")\n",
    "hdul = fits.open(fits_image_filename)\n",
    "\n",
    "\"\"\""
   ]
  },
  {
   "cell_type": "code",
   "execution_count": null,
   "id": "47808d58",
   "metadata": {},
   "outputs": [],
   "source": [
    "for file in filenames:\n",
    "    #going for the first file\n",
    "    #file = filenames[0]\n",
    "    \n",
    "    img_header = fits.open(file)\n",
    "    img_data = fits.getdata(file)\n",
    "    crop_center = ((img_data.shape[0]/2), img_data.shape[1] / 2)\n",
    "    crop_size = units.Quantity((100, 100), units.pixel)\n",
    "    \n",
    "    ## what I want to do\n",
    "    # open the header and image data\n",
    "    #create the file object with header info and data:\n",
    "    #              CCD_TEMP\n",
    "    #              EXP_TIME\n",
    "    #              PICTTYPE\n",
    "    #              img_data.shape <- to verify the proper geometry\n",
    "    #              CROP(data)\n",
    "    #              min, max, mean, std_dev\n",
    "    \n",
    "    # Let's create the crop\n",
    "    \n",
    "    img_crop = Cutout2D(img_data, crop_center, crop_size)\n",
    "    img_sample = []\n",
    "    data_set[file.split('/')[1]] = img_sample"
   ]
  },
  {
   "cell_type": "code",
   "execution_count": null,
   "id": "f33e42f7",
   "metadata": {
    "scrolled": true
   },
   "outputs": [],
   "source": [
    "img_header"
   ]
  },
  {
   "cell_type": "code",
   "execution_count": null,
   "id": "64f5f512",
   "metadata": {},
   "outputs": [],
   "source": [
    "img_data"
   ]
  },
  {
   "cell_type": "code",
   "execution_count": null,
   "id": "98fb2d6a",
   "metadata": {},
   "outputs": [],
   "source": []
  },
  {
   "cell_type": "code",
   "execution_count": null,
   "id": "3bdace6e",
   "metadata": {},
   "outputs": [],
   "source": [
    "filenames = glob.glob('data/*fits')\n",
    "data_set = {}\n",
    "\n",
    "for file in filenames:\n",
    "    #going for the first file\n",
    "    #file = filenames[0]\n",
    "    \n",
    "    img_header = fits.open(file)\n",
    "    img_data = fits.getdata(file)\n",
    "    \n",
    "    # we're going to measure the center of the image, 100x100\n",
    "    crop_center = ((img_data.shape[0]/2), img_data.shape[1] / 2)\n",
    "    crop_size = units.Quantity((100, 100), units.pixel)\n",
    "    \n",
    "    ## what I want to do\n",
    "    # open the header and image data\n",
    "    #create the file object with header info and data:\n",
    "    #              CCD_TEMP\n",
    "    #              EXP_TIME\n",
    "    #              PICTTYPE\n",
    "    #              img_data.shape <- to verify the proper geometry\n",
    "    #              CROP(data)\n",
    "    #              min, max, mean, std_dev\n",
    "    \n",
    "    # Let's create the crop\n",
    "    \n",
    "    img_crop = Cutout2D(img_data, crop_center, crop_size)\n",
    "    \n",
    "    # and write the required header and data into a sample dict\n",
    "    \n",
    "    img_sample = {'PICTTYPE' : img_header[0].header['PICTTYPE'],\n",
    "                  'ff_geometry' : img_data.shape,\n",
    "                  'crop_geometry' : img_crop.shape,\n",
    "                  'EXPTIME' : img_header[0].header['EXPTIME'],\n",
    "                  'CCD-TEMP' : img_header[0].header['CCD-TEMP'],\n",
    "                  'min' : np.min(img_crop.data),\n",
    "                  'max' : np.max(img_crop.data),\n",
    "                  'mean' : np.mean(img_crop.data),\n",
    "                  'std_dev' : np.std(img_crop.data),\n",
    "                  'data' : img_crop.data}\n",
    "    \n",
    "    # join it to the main data_set, keyed off file name\n",
    "    \n",
    "    data_set[file.split('/')[1]] = img_sample"
   ]
  },
  {
   "cell_type": "code",
   "execution_count": null,
   "id": "f69b1864",
   "metadata": {},
   "outputs": [],
   "source": [
    "\n",
    "for x,y in data_set.items():\n",
    "    print(x, '\\nTemp :', (y['CCD-TEMP']), '\\ntype:', (y['PICTTYPE']), '\\nEXPTIME:' , (y['EXPTIME']), '\\nStdDev:', (y['std_dev']))\n",
    "    plt.imshow(y['data'], origin='lower', cmap='gray')\n",
    "    plt.colorbar()\n",
    "    plt.show()"
   ]
  },
  {
   "cell_type": "code",
   "execution_count": null,
   "id": "bb342713",
   "metadata": {},
   "outputs": [],
   "source": []
  },
  {
   "cell_type": "code",
   "execution_count": null,
   "id": "ed470942",
   "metadata": {},
   "outputs": [],
   "source": []
  },
  {
   "cell_type": "code",
   "execution_count": null,
   "id": "8824eda0",
   "metadata": {},
   "outputs": [],
   "source": []
  }
 ],
 "metadata": {
  "kernelspec": {
   "display_name": "Python 3 (ipykernel)",
   "language": "python",
   "name": "python3"
  },
  "language_info": {
   "codemirror_mode": {
    "name": "ipython",
    "version": 3
   },
   "file_extension": ".py",
   "mimetype": "text/x-python",
   "name": "python",
   "nbconvert_exporter": "python",
   "pygments_lexer": "ipython3",
   "version": "3.9.13"
  }
 },
 "nbformat": 4,
 "nbformat_minor": 5
}
